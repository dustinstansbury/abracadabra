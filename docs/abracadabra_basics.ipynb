{
 "cells": [
  {
   "cell_type": "markdown",
   "metadata": {
    "toc": true
   },
   "source": [
    "<h1>Table of Contents<span class=\"tocSkip\"></span></h1>\n",
    "<div class=\"toc\"><ul class=\"toc-item\"><li><span><a href=\"#Input-data\" data-toc-modified-id=\"Input-data-1\">Input data</a></span></li><li><span><a href=\"#Key-Components-of-an-AB-Test\" data-toc-modified-id=\"Key-Components-of-an-AB-Test-2\">Key Components of an AB Test</a></span><ul class=\"toc-item\"><li><span><a href=\"#Running-an-AB-test-in-Abracadabra-is-as-easy-as-&quot;1,-2,-3&quot;:\" data-toc-modified-id=\"Running-an-AB-test-in-Abracadabra-is-as-easy-as-&quot;1,-2,-3&quot;:-2.1\">Running an AB test in Abracadabra is as easy as \"1, 2, 3\":</a></span><ul class=\"toc-item\"><li><span><a href=\"#Hypotheses\" data-toc-modified-id=\"Hypotheses-2.1.1\">Hypotheses</a></span></li><li><span><a href=\"#Inference-Methods\" data-toc-modified-id=\"Inference-Methods-2.1.2\">Inference Methods</a></span></li><li><span><a href=\"#Example\" data-toc-modified-id=\"Example-2.1.3\">Example</a></span></li></ul></li></ul></li><li><span><a href=\"#Interpreting-results\" data-toc-modified-id=\"Interpreting-results-3\">Interpreting results</a></span><ul class=\"toc-item\"><li><ul class=\"toc-item\"><li><span><a href=\"#Top-Plot:-Sample-Distributions\" data-toc-modified-id=\"Top-Plot:-Sample-Distributions-3.0.1\">Top Plot: Sample Distributions</a></span></li><li><span><a href=\"#Middle-Plot:-Central-Tendencies\" data-toc-modified-id=\"Middle-Plot:-Central-Tendencies-3.0.2\">Middle Plot: Central Tendencies</a></span></li><li><span><a href=\"#Bottom-Plot:-Deltas\" data-toc-modified-id=\"Bottom-Plot:-Deltas-3.0.3\">Bottom Plot: Deltas</a></span></li></ul></li></ul></li><li><span><a href=\"#Including-Segmentations\" data-toc-modified-id=\"Including-Segmentations-4\">Including Segmentations</a></span></li><li><span><a href=\"#Running-multiple-tests,-and-multiple-comparison-control\" data-toc-modified-id=\"Running-multiple-tests,-and-multiple-comparison-control-5\">Running multiple tests, and multiple comparison control</a></span></li><li><span><a href=\"#Custom-Metrics\" data-toc-modified-id=\"Custom-Metrics-6\">Custom Metrics</a></span></li><li><span><a href=\"#Continuous-Variables\" data-toc-modified-id=\"Continuous-Variables-7\">Continuous Variables</a></span></li><li><span><a href=\"#Bayesian-Hypothesis-Tests\" data-toc-modified-id=\"Bayesian-Hypothesis-Tests-8\">Bayesian Hypothesis Tests</a></span><ul class=\"toc-item\"><li><span><a href=\"#Bayesian-Model-Specification\" data-toc-modified-id=\"Bayesian-Model-Specification-8.1\">Bayesian Model Specification</a></span></li></ul></li></ul></div>"
   ]
  },
  {
   "cell_type": "markdown",
   "metadata": {},
   "source": [
    "# ✨Abracadabra✨ Basics"
   ]
  },
  {
   "cell_type": "markdown",
   "metadata": {},
   "source": [
    "## Input data\n",
    "Abracadabra takes as input a `pandas` `DataFrame` containing experiment observations data. Each record in the DataFrame represents an observation trial recorded in the experiment, and has the following columns:\n",
    "\n",
    "- One or more `metric` columns: these are the values associated with each observation that are used to compare the two groups in the experiment.\n",
    "- One or more `treatment` columns: each treatment column contains two or more distinct, discrete values that are used to identify the different groups in the experiment\n",
    "- Zero or more columns that are associated with additional `attributes` assigned to the observations. These attributes can be used for any additional segmentations across experiment groups.\n",
    "\n",
    "Below we use the `generate_fake_observations` utility function to create a dataset of artificial experiment observations."
   ]
  },
  {
   "cell_type": "code",
   "execution_count": 1,
   "metadata": {},
   "outputs": [
    {
     "data": {
      "text/html": [
       "<div>\n",
       "<style scoped>\n",
       "    .dataframe tbody tr th:only-of-type {\n",
       "        vertical-align: middle;\n",
       "    }\n",
       "\n",
       "    .dataframe tbody tr th {\n",
       "        vertical-align: top;\n",
       "    }\n",
       "\n",
       "    .dataframe thead th {\n",
       "        text-align: right;\n",
       "    }\n",
       "</style>\n",
       "<table border=\"1\" class=\"dataframe\">\n",
       "  <thead>\n",
       "    <tr style=\"text-align: right;\">\n",
       "      <th></th>\n",
       "      <th>id</th>\n",
       "      <th>treatment</th>\n",
       "      <th>attr_0</th>\n",
       "      <th>attr_1</th>\n",
       "      <th>attr_2</th>\n",
       "      <th>attr_3</th>\n",
       "      <th>metric</th>\n",
       "    </tr>\n",
       "  </thead>\n",
       "  <tbody>\n",
       "    <tr>\n",
       "      <th>0</th>\n",
       "      <td>0</td>\n",
       "      <td>C</td>\n",
       "      <td>A0a</td>\n",
       "      <td>A1a</td>\n",
       "      <td>A2b</td>\n",
       "      <td>A3a</td>\n",
       "      <td>True</td>\n",
       "    </tr>\n",
       "    <tr>\n",
       "      <th>1</th>\n",
       "      <td>1</td>\n",
       "      <td>B</td>\n",
       "      <td>A0a</td>\n",
       "      <td>A1a</td>\n",
       "      <td>A2b</td>\n",
       "      <td>A3a</td>\n",
       "      <td>True</td>\n",
       "    </tr>\n",
       "    <tr>\n",
       "      <th>2</th>\n",
       "      <td>2</td>\n",
       "      <td>C</td>\n",
       "      <td>A0a</td>\n",
       "      <td>A1b</td>\n",
       "      <td>A2c</td>\n",
       "      <td>A3a</td>\n",
       "      <td>True</td>\n",
       "    </tr>\n",
       "    <tr>\n",
       "      <th>3</th>\n",
       "      <td>3</td>\n",
       "      <td>C</td>\n",
       "      <td>A0a</td>\n",
       "      <td>A1a</td>\n",
       "      <td>A2a</td>\n",
       "      <td>A3a</td>\n",
       "      <td>False</td>\n",
       "    </tr>\n",
       "    <tr>\n",
       "      <th>4</th>\n",
       "      <td>4</td>\n",
       "      <td>A</td>\n",
       "      <td>A0a</td>\n",
       "      <td>A1b</td>\n",
       "      <td>A2a</td>\n",
       "      <td>A3a</td>\n",
       "      <td>True</td>\n",
       "    </tr>\n",
       "  </tbody>\n",
       "</table>\n",
       "</div>"
      ],
      "text/plain": [
       "   id treatment attr_0 attr_1 attr_2 attr_3 metric\n",
       "0   0         C    A0a    A1a    A2b    A3a   True\n",
       "1   1         B    A0a    A1a    A2b    A3a   True\n",
       "2   2         C    A0a    A1b    A2c    A3a   True\n",
       "3   3         C    A0a    A1a    A2a    A3a  False\n",
       "4   4         A    A0a    A1b    A2a    A3a   True"
      ]
     },
     "execution_count": 1,
     "metadata": {},
     "output_type": "execute_result"
    }
   ],
   "source": [
    "from abra.utils import generate_fake_observations\n",
    "\n",
    "# generate some fake binary trial data\n",
    "binary_data = generate_fake_observations(\n",
    "    distribution='bernoulli',  # binary data\n",
    "    n_treatments=3,\n",
    "    n_attributes=4,\n",
    "    n_observations=1000\n",
    ")\n",
    "binary_data.head()"
   ]
  },
  {
   "cell_type": "markdown",
   "metadata": {},
   "source": [
    "The resulting data have a single `treatment` column, called (creatively) `'treatment'`, a single `metric` column, called `'metric'`, and four `attribute` columns, `atr_0`, `attr_1`, `attr_2`, and `attr_3`. The `treatment` column has 3 distinct treatments: `\"A\"`, `\"B\"`, and `\"C\"`, and the metric takes on boolean/binary values drawn from a [Bernoulli distribution](https://en.wikipedia.org/wiki/Bernoulli_distribution)."
   ]
  },
  {
   "cell_type": "markdown",
   "metadata": {},
   "source": [
    "## Key Components of an AB Test"
   ]
  },
  {
   "cell_type": "markdown",
   "metadata": {},
   "source": [
    "The three key components of running an AB test in ✨abracadabra✨ are:\n",
    "\n",
    "- The `Experiment`, which holds the raw observations data recorded from, and any metadata associated with an AB experiment.\n",
    "- The `HypothesisTest`, which defines the statistical inference procedure applied to the experiment data.\n",
    "- The `HypothesisTestResults`, which is the statistical artifact that results from running a `HypothesisTest` against an `Experiment`'s observations. The `HypothesisTestResults` are used to summarize, visulize, and interpret the inference results and make decisions based on these results."
   ]
  },
  {
   "cell_type": "markdown",
   "metadata": {},
   "source": [
    "### Running an AB test in Abracadabra is as easy as \"1, 2, 3\":\n",
    "1. Initialize your `Experiment` with observations and any metadata\n",
    "2. Define your `HypothesisTest`. This requires defining the `hypothesis` and `inference_method`. The relevant inference method used will depend on the support of your observations. A list of supported hypotheses and inference methods for different types of observation variables are shown below:\n",
    "\n",
    "#### Hypotheses\n",
    "| Hypothesis | Hypothesis Type | `hypothesis` parameter  |\n",
    "|---|---|---|\n",
    "| \"The treatment is larger than the control\" | one-tailed | `\"larger\"` |\n",
    "| \"The treatment is smaller than the control\" | one-tailed | `\"smaller\"` |\n",
    "| \"The treatment is not equal to the control\" | two-tailed | `\"unequal\"` |\n",
    "\n",
    "\n",
    "#### Inference Methods\n",
    "\n",
    "| Variable Type | Model Class| `inference_method` parameter  |\n",
    "|---|---|---|\n",
    "| Continuous | Frequentist| `'means_delta'` (t-test) |\n",
    "|  | Bayesian| `'gaussian'`, `'exp_student_t'`|\n",
    "| Binary / Proportions | Frequentist| `'proportions_delta'` (z-test) |\n",
    "|  | Bayesian| `'beta'`, `'beta_binomial'`, `'bernoulli'`  |\n",
    "| Counts  |Frequentist| `'rates_ratio'`  |\n",
    "|  |Bayesian| `'gamma_poisson'`  |\n",
    "\n",
    "3. Run the test against your experiment and interpret the resulting `HypothesisTestResults`"
   ]
  },
  {
   "cell_type": "markdown",
   "metadata": {},
   "source": [
    "#### Example\n",
    "\n",
    "Below we demonstrate a standard AB test workflow in ✨abracadabra✨. Namely we:\n",
    "1. Initialize an `Experiment` instance `exper` with our artifical binary observations generated above.\n",
    "2. We then initialize a `HypothesisTest` instance `ab_test` that tests if `treatment` `\"B\"` is `\"larger\"` than treatment `\"A\"` based on the metric values in the `\"metric\"` column of the dataframe. The hypothesis test uses a Frequentist method `'proportions_delta'` that is dedicated to detecting differences between binary samples. "
   ]
  },
  {
   "cell_type": "code",
   "execution_count": 2,
   "metadata": {},
   "outputs": [],
   "source": [
    "from abra import Experiment, HypothesisTest\n",
    "\n",
    "# Initialize the Experiment\n",
    "exper = Experiment(data=binary_data, name=\"Demo Experiment\")\n",
    "\n",
    "# Initialize the A/B test\n",
    "ab_test = HypothesisTest(\n",
    "    metric=\"metric\",\n",
    "    treatment=\"treatment\",\n",
    "    control=\"A\", variation=\"B\",\n",
    "    hypothesis=\"unequal\",\n",
    "    inference_method=\"proportions_delta\"\n",
    ")\n",
    "\n",
    "# Run the test with an alpha of 0.5; get back a HypothesisTestResults object\n",
    "ab_test_results = exper.run_test(ab_test, alpha=.05)\n",
    "\n",
    "# Check the test results decision\n",
    "assert ab_test_results.accept_hypothesis"
   ]
  },
  {
   "cell_type": "markdown",
   "metadata": {},
   "source": [
    "## Interpreting results\n",
    "Each `HypothesisTestResults` has its own `display()` and `visualize()` methods that can be used to interpret the results of the test. The `display()` method prints out the results to the console, while `visualize` plots a visual summary of the results."
   ]
  },
  {
   "cell_type": "code",
   "execution_count": 3,
   "metadata": {
    "scrolled": false
   },
   "outputs": [
    {
     "name": "stdout",
     "output_type": "stream",
     "text": [
      "\n",
      "Observations Summary:\n",
      "+----------------+------------------+-----------------+\n",
      "| Treatment      | A                | B               |\n",
      "+----------------+------------------+-----------------+\n",
      "| Metric         | metric           | metric          |\n",
      "| Observations   | 318              | 345             |\n",
      "| Mean           | 0.4528           | 0.5594          |\n",
      "| Standard Error | (0.3981, 0.5075) | (0.507, 0.6118) |\n",
      "| Variance       | 0.2478           | 0.2465          |\n",
      "+----------------+------------------+-----------------+\n",
      "\n",
      "Test Results:\n",
      "+---------------------------+---------------------+\n",
      "| ProportionsDelta          | 0.1066              |\n",
      "| ProportionsDelta CI       | (0.0307, 0.1824)    |\n",
      "| CI %-tiles                | (0.0250, 0.9750)    |\n",
      "| ProportionsDelta-relative | 23.54 %             |\n",
      "| CI-relative               | (6.79, 40.29) %     |\n",
      "| Effect Size               | 0.2144              |\n",
      "| alpha                     | 0.0500              |\n",
      "| Power                     | 0.7877              |\n",
      "| Inference Method          | 'proportions_delta' |\n",
      "| Test Statistic ('z')      | 3.18                |\n",
      "| p-value                   | 0.0015              |\n",
      "| Degrees of Freedom        | None                |\n",
      "| Hypothesis                | 'B != A'            |\n",
      "| Accept Hypothesis         | True                |\n",
      "| MC Correction             | None                |\n",
      "| Warnings                  | None                |\n",
      "+---------------------------+---------------------+\n",
      "        \n"
     ]
    }
   ],
   "source": [
    "# Print the test results to the console\n",
    "ab_test_results.display()"
   ]
  },
  {
   "cell_type": "markdown",
   "metadata": {},
   "source": [
    "Providing an `outfile` argument to the `visualize` method will save the results figure to an image file."
   ]
  },
  {
   "cell_type": "code",
   "execution_count": 4,
   "metadata": {},
   "outputs": [
    {
     "name": "stdout",
     "output_type": "stream",
     "text": [
      "Populating the interactive namespace from numpy and matplotlib\n",
      "-rw-r--r--@ 1 dustinstansbury  wheel    26K Jun  3 14:26 /tmp/abracadabra_demo_test_results.png\n"
     ]
    },
    {
     "data": {
      "image/png": "[encoded data removed]",
      "text/plain": [
       "<Figure size 1080x720 with 3 Axes>"
      ]
     },
     "metadata": {
      "needs_background": "light"
     },
     "output_type": "display_data"
    }
   ],
   "source": [
    "%pylab inline\n",
    "# Visualize the test results\n",
    "outfile = '/tmp/abracadabra_demo_test_results.png'\n",
    "ab_test_results.visualize(outfile=outfile)\n",
    "\n",
    "# Show that results figure exists\n",
    "!ls -lah {outfile}"
   ]
  },
  {
   "cell_type": "markdown",
   "metadata": {},
   "source": [
    "The resulting frequentist test results (displayed and visualized above) indicate that hypothesis `\"B is larger\"` should be accepted. A breakdown of the results plot is as follows:\n",
    "\n",
    "#### Top Plot: Sample Distributions\n",
    "The top plot compares the _parameterized representation of the sample distributions_ with parameters being derived from the experiment observations.\n",
    "\n",
    "The large degree of separation between the two distributions indicates that the `\"B\"` group is qualitatively larger than `\"A\"`\n",
    "\n",
    "#### Middle Plot: Central Tendencies\n",
    "The middle plot compares the _central tendiency estimates_ of the two sample groups--in this case the, average probability of success on a given trial--as well as adds _Standard Errors_ calculate for the central tendency estimates.\n",
    "\n",
    "We can see that there is no overlap of the standard errors, further indicating that we can be confident that the two groups are likely different, and that `\"B\"` is larger than `\"A\"`.\n",
    "\n",
    "#### Bottom Plot: Deltas\n",
    "The bottom plot gives the estimate of the _difference in central tendencies_, in this case `ProportionsDelta`, as well as 95% Confidence Intervals on this difference estimate (This is a one-tailed test, checking that `\"B\"` is larger than `\"A\"`, so the upper bound on ProportionsDelta is `inf`).\n",
    "\n",
    "We can see that the confidence interval on the difference between the two groups does not intersect with the `ProportionsDelta=0` line, indicating a statistically significant difference between the two samples."
   ]
  },
  {
   "cell_type": "markdown",
   "metadata": {},
   "source": [
    "## Including Segmentations\n",
    "✨abracdabra✨ supports the ability to segment experiment observations based on one or more attributes in your dataset using the `segmentation` argument to `HyptothesisTest`. The segmentation can be a string or list of string expressions, each of which follow the [pandas query API](https://pandas.pydata.org/pandas-docs/stable/generated/pandas.DataFrame.query.html)"
   ]
  },
  {
   "cell_type": "code",
   "execution_count": 5,
   "metadata": {},
   "outputs": [
    {
     "name": "stdout",
     "output_type": "stream",
     "text": [
      "\n",
      "Observations Summary:\n",
      "+----------------+------------------+-----------------+\n",
      "| Treatment      | A                | B               |\n",
      "+----------------+------------------+-----------------+\n",
      "| Metric         | metric           | metric          |\n",
      "| Observations   | 97               | 101             |\n",
      "| Mean           | 0.5258           | 0.5842          |\n",
      "| Standard Error | (0.4264, 0.6251) | (0.488, 0.6803) |\n",
      "| Variance       | 0.2493           | 0.2429          |\n",
      "+----------------+------------------+-----------------+\n",
      "\n",
      "Test Results:\n",
      "+---------------------------+---------------------+\n",
      "| ProportionsDelta          | 0.0584              |\n",
      "| ProportionsDelta CI       | (-0.0582, inf)      |\n",
      "| CI %-tiles                | (0.0500, inf)       |\n",
      "| ProportionsDelta-relative | 11.10 %             |\n",
      "| CI-relative               | (-11.07, inf) %     |\n",
      "| Effect Size               | 0.1177              |\n",
      "| alpha                     | 0.0500              |\n",
      "| Power                     | 0.2070              |\n",
      "| Inference Method          | 'proportions_delta' |\n",
      "| Test Statistic ('z')      | 0.95                |\n",
      "| p-value                   | 0.1702              |\n",
      "| Degrees of Freedom        | None                |\n",
      "| Hypothesis                | 'B is larger'       |\n",
      "| Accept Hypothesis         | False               |\n",
      "| MC Correction             | None                |\n",
      "| Warnings                  | None                |\n",
      "+---------------------------+---------------------+\n",
      "        \n"
     ]
    },
    {
     "data": {
      "image/png": "[encoded data removed]",
      "text/plain": [
       "<Figure size 1080x720 with 3 Axes>"
      ]
     },
     "metadata": {
      "needs_background": "light"
     },
     "output_type": "display_data"
    }
   ],
   "source": [
    "# Initialize an A/B test with additional segmentation on the 'attr_1' attribute\n",
    "ab_test_segmented = HypothesisTest(\n",
    "    metric='metric',\n",
    "    control='A', variation='B',\n",
    "    inference_method='proportions_delta',\n",
    "    hypothesis='larger',\n",
    "    segmentation=\"attr_1 == 'A1a'\"\n",
    ")\n",
    "\n",
    "# Run the segmented test\n",
    "ab_test_segmented_results = exper.run_test(ab_test_segmented)\n",
    "assert not ab_test_segmented_results.accept_hypothesis  # B is larger\n",
    "\n",
    "# Display results (notice reduced sample sizes)\n",
    "ab_test_segmented_results.display()\n",
    "ab_test_segmented_results.visualize()"
   ]
  },
  {
   "cell_type": "markdown",
   "metadata": {},
   "source": [
    "We now see that if we dig into a particular segment, namely the segement defined by `\"attr_1 == 'A1a'\"`, we can no longer accept the hypothesis that `\"B is larger\"`. This is indicated by a `ProportionsDelta` that overlaps substantially with the line indicating `0` difference between the two samples."
   ]
  },
  {
   "cell_type": "markdown",
   "metadata": {},
   "source": [
    "## Running multiple tests, and multiple comparison control\n",
    "When running multiple tests on the same metric, you'll need to control for [multiple comparisons](https://en.wikipedia.org/wiki/Multiple_comparisons_problem). This is handled by running a `HypothesisTestSuite`, which takes in a list of hypothesis tests.\n",
    "\n",
    "Below we run 3 independent tests comparing A to A, B to A and C to A, and set the correction `method` to `'bonferonni'`, which simply updates the effective $\\alpha_{corrected} = \\frac{\\alpha}{N_{tests}}$. Our original value for `alpha=0.05`, thus the corrected value would be $\\frac{0.05}{3} = 0.0167$"
   ]
  },
  {
   "cell_type": "code",
   "execution_count": 6,
   "metadata": {},
   "outputs": [
    {
     "name": "stdout",
     "output_type": "stream",
     "text": [
      "HypothesisTestSuiteResults(ntests=3, correction_method='bonferroni')\n",
      "------------------------------------------------------------\n",
      "Test 1 of 3\n",
      "\n",
      "Observations Summary:\n",
      "+----------------+-----------------+-----------------+\n",
      "| Treatment      | A               | A               |\n",
      "+----------------+-----------------+-----------------+\n",
      "| Metric         | metric          | metric          |\n",
      "| Observations   | 318             | 318             |\n",
      "| Mean           | 0.4528          | 0.4528          |\n",
      "| Standard Error | (0.386, 0.5197) | (0.386, 0.5197) |\n",
      "| Variance       | 0.2478          | 0.2478          |\n",
      "+----------------+-----------------+-----------------+\n",
      "\n",
      "Test Results:\n",
      "+---------------------------+---------------------+\n",
      "| ProportionsDelta          | 0.0000              |\n",
      "| ProportionsDelta CI       | (-0.0841, inf)      |\n",
      "| CI %-tiles                | (0.0167, inf)       |\n",
      "| ProportionsDelta-relative | 0.00 %              |\n",
      "| CI-relative               | (-18.58, inf) %     |\n",
      "| Effect Size               | 0.0000              |\n",
      "| alpha (corrected)         | 0.0167              |\n",
      "| Power                     | 0.0167              |\n",
      "| Inference Method          | 'proportions_delta' |\n",
      "| Test Statistic ('z')      | 0.00                |\n",
      "| p-value                   | 0.5000              |\n",
      "| Degrees of Freedom        | None                |\n",
      "| Hypothesis                | 'A is larger'       |\n",
      "| Accept Hypothesis         | False               |\n",
      "| MC Correction             | 'bonferroni'        |\n",
      "| Warnings                  | None                |\n",
      "+---------------------------+---------------------+\n",
      "        \n",
      "------------------------------------------------------------\n",
      "Test 2 of 3\n",
      "\n",
      "Observations Summary:\n",
      "+----------------+-----------------+------------------+\n",
      "| Treatment      | A               | B                |\n",
      "+----------------+-----------------+------------------+\n",
      "| Metric         | metric          | metric           |\n",
      "| Observations   | 318             | 345              |\n",
      "| Mean           | 0.4528          | 0.5594           |\n",
      "| Standard Error | (0.386, 0.5197) | (0.4954, 0.6234) |\n",
      "| Variance       | 0.2478          | 0.2465           |\n",
      "+----------------+-----------------+------------------+\n",
      "\n",
      "Test Results:\n",
      "+---------------------------+---------------------+\n",
      "| ProportionsDelta          | 0.1066              |\n",
      "| ProportionsDelta CI       | (0.0139, 0.1992)    |\n",
      "| CI %-tiles                | (0.0083, 0.9917)    |\n",
      "| ProportionsDelta-relative | 23.54 %             |\n",
      "| CI-relative               | (3.08, 44.00) %     |\n",
      "| Effect Size               | 0.2144              |\n",
      "| alpha (corrected)         | 0.0167              |\n",
      "| Power                     | 0.6422              |\n",
      "| Inference Method          | 'proportions_delta' |\n",
      "| Test Statistic ('z')      | 3.18                |\n",
      "| p-value                   | 0.0015              |\n",
      "| Degrees of Freedom        | None                |\n",
      "| Hypothesis                | 'B != A'            |\n",
      "| Accept Hypothesis         | True                |\n",
      "| MC Correction             | 'bonferroni'        |\n",
      "| Warnings                  | None                |\n",
      "+---------------------------+---------------------+\n",
      "        \n",
      "------------------------------------------------------------\n",
      "Test 3 of 3\n",
      "\n",
      "Observations Summary:\n",
      "+----------------+-----------------+------------------+\n",
      "| Treatment      | A               | C                |\n",
      "+----------------+-----------------+------------------+\n",
      "| Metric         | metric          | metric           |\n",
      "| Observations   | 318             | 337              |\n",
      "| Mean           | 0.4528          | 0.6409           |\n",
      "| Standard Error | (0.386, 0.5197) | (0.5784, 0.7035) |\n",
      "| Variance       | 0.2478          | 0.2301           |\n",
      "+----------------+-----------------+------------------+\n",
      "\n",
      "Test Results:\n",
      "+---------------------------+---------------------+\n",
      "| ProportionsDelta          | 0.1881              |\n",
      "| ProportionsDelta CI       | (0.1067, inf)       |\n",
      "| CI %-tiles                | (0.0167, inf)       |\n",
      "| ProportionsDelta-relative | 41.54 %             |\n",
      "| CI-relative               | (23.57, inf) %      |\n",
      "| Effect Size               | 0.3850              |\n",
      "| alpha (corrected)         | 0.0167              |\n",
      "| Power                     | 0.9974              |\n",
      "| Inference Method          | 'proportions_delta' |\n",
      "| Test Statistic ('z')      | 5.64                |\n",
      "| p-value                   | 0.0000              |\n",
      "| Degrees of Freedom        | None                |\n",
      "| Hypothesis                | 'C is larger'       |\n",
      "| Accept Hypothesis         | True                |\n",
      "| MC Correction             | 'bonferroni'        |\n",
      "| Warnings                  | None                |\n",
      "+---------------------------+---------------------+\n",
      "        \n"
     ]
    }
   ],
   "source": [
    "from abra.hypothesis_test import HypothesisTestSuite\n",
    "from copy import deepcopy\n",
    "\n",
    "# Use the `HypothesisTest.copy` method for duplicating tests\n",
    "# configurations, while overwriting specific parameters\n",
    "aa_test = ab_test.copy(variation='A')\n",
    "ac_test = ab_test.copy(variation='C')\n",
    "\n",
    "# Initialize the `HypothesisTestSuite`\n",
    "test_suite = HypothesisTestSuite(\n",
    "    tests=[aa_test, ab_test, ac_test],\n",
    "    correction_method='bonferroni'\n",
    ")\n",
    "\n",
    "# Run tests\n",
    "test_suite_results = exper.run_test_suite(test_suite)\n",
    "\n",
    "print(test_suite_results)\n",
    "\n",
    "# Print results\n",
    "test_suite_results.display()"
   ]
  },
  {
   "cell_type": "markdown",
   "metadata": {},
   "source": [
    "Note that the alpha has been `corrected` with `MC Correction='bonferroni'`"
   ]
  },
  {
   "cell_type": "code",
   "execution_count": 7,
   "metadata": {
    "scrolled": false
   },
   "outputs": [],
   "source": [
    "# test_suite_results.visualize()"
   ]
  },
  {
   "cell_type": "markdown",
   "metadata": {},
   "source": [
    "The `HypothesisTestSuite` supports the following multiple comparison strategies:\n",
    "- [Sidak](http://en.wikipedia.org/wiki/%C5%A0id%C3%A1k_correction) (default)\n",
    "- [Bonferonni](http://en.wikipedia.org/wiki/Bonferroni_correction)\n",
    "- [Benjamini-Hochberg false-discovery rate](http://pdfs.semanticscholar.org/af6e/9cd1652b40e219b45402313ec6f4b5b3d96b.pdf)"
   ]
  },
  {
   "cell_type": "markdown",
   "metadata": {},
   "source": [
    "## Custom Metrics\n",
    "Abracadabra also supports the use of custom metrics, which can transform and combine information from one or more columns. Below we create a `CustomMetric` always makes the `variation` greater than the `control` by adding a constant offset (plus noise) to the value of the the `control`."
   ]
  },
  {
   "cell_type": "code",
   "execution_count": 8,
   "metadata": {},
   "outputs": [
    {
     "name": "stdout",
     "output_type": "stream",
     "text": [
      "\n",
      "Observations Summary:\n",
      "+----------------+-----------------+-----------------+\n",
      "| Treatment      | A               | B               |\n",
      "+----------------+-----------------+-----------------+\n",
      "| Metric         | custom_metric   | custom_metric   |\n",
      "| Observations   | 318             | 345             |\n",
      "| Mean           | 4.4751          | 0.5239          |\n",
      "| Standard Error | (4.4442, 4.506) | (0.493, 0.5547) |\n",
      "| Variance       | 0.0791          | 0.0854          |\n",
      "+----------------+-----------------+-----------------+\n",
      "\n",
      "Test Results:\n",
      "+----------------------+--------------------+\n",
      "| MeansDelta           | -3.9512            |\n",
      "| MeansDelta CI        | (-3.9949, -3.9075) |\n",
      "| CI %-tiles           | (0.0250, 0.9750)   |\n",
      "| MeansDelta-relative  | -88.29 %           |\n",
      "| CI-relative          | (-89.27, -87.32) % |\n",
      "| Effect Size          | -13.7631           |\n",
      "| alpha                | 0.0500             |\n",
      "| Power                | 1.0000             |\n",
      "| Inference Method     | 'means_delta'      |\n",
      "| Test Statistic ('z') | -176.78            |\n",
      "| p-value              | 0.0000             |\n",
      "| Degrees of Freedom   | None               |\n",
      "| Hypothesis           | 'B != A'           |\n",
      "| Accept Hypothesis    | True               |\n",
      "| MC Correction        | None               |\n",
      "| Warnings             | None               |\n",
      "+----------------------+--------------------+\n",
      "        \n"
     ]
    }
   ],
   "source": [
    "from abra import CustomMetric\n",
    "import numpy as np\n",
    "\n",
    "def custom_metric(row):\n",
    "    \"\"\"\n",
    "    Define a custom 'metric' where the control is always better.\n",
    "    \"\"\"\n",
    "    return 4 + np.random.rand() if row['treatment'] == 'A' else np.random.rand()\n",
    "\n",
    "custom_test = HypothesisTest(\n",
    "    metric=CustomMetric(custom_metric),\n",
    "    control='A',\n",
    "    variation='B',\n",
    "    inference_method='means_delta',  # Note we use a t-test here\n",
    "    hypothesis='unequal'\n",
    ")\n",
    "\n",
    "custom_test = exper.run_test(custom_test)\n",
    "custom_test.display()"
   ]
  },
  {
   "cell_type": "markdown",
   "metadata": {},
   "source": [
    "We see that, as expected, we have highly significant results, accepting the hypothesis that `'B != A'`"
   ]
  },
  {
   "cell_type": "markdown",
   "metadata": {},
   "source": [
    "## Continuous Variables"
   ]
  },
  {
   "cell_type": "markdown",
   "metadata": {},
   "source": [
    "## Bayesian Hypothesis Tests\n",
    "In addition to common Frequentist test, running Bayesian analogs is simple. Simply intitialize the `HypothesisTest` with a Bayesian `method` parameter. For example, the Bayesian analogs to the `'proportions_delta'` method are the `'binomial'`, `'beta_binomial'`, or `'bernoulli'` methods."
   ]
  },
  {
   "cell_type": "code",
   "execution_count": 9,
   "metadata": {
    "scrolled": false
   },
   "outputs": [
    {
     "name": "stdout",
     "output_type": "stream",
     "text": [
      "\n",
      "Observations Summary:\n",
      "+----------------+------------------+-----------------+\n",
      "| Treatment      | A                | B               |\n",
      "+----------------+------------------+-----------------+\n",
      "| Metric         | metric           | metric          |\n",
      "| Observations   | 318              | 345             |\n",
      "| Mean           | 0.4528           | 0.5594          |\n",
      "| Standard Error | (0.3981, 0.5075) | (0.507, 0.6118) |\n",
      "| Variance       | 0.2478           | 0.2465          |\n",
      "+----------------+------------------+-----------------+\n",
      "\n",
      "Test Results:\n",
      "+------------------------+-------------------------------+\n",
      "| Delta                  | 0.1057                        |\n",
      "| HDI                    | (0.0344, 0.1853)              |\n",
      "| HDI %-tiles            | (0.0500, 0.9500)              |\n",
      "| Delta-relative         | 23.79 %                       |\n",
      "| HDI-relative           | (5.91, 43.62) %               |\n",
      "| Effect Size            | 0.2133                        |\n",
      "| alpha                  | 0.0500                        |\n",
      "| Credible Mass          | 0.9500                        |\n",
      "| p(variation > control) | 0.9978                        |\n",
      "| Inference Method       | 'binomial'                    |\n",
      "| Model Hyperarameters   | {'alpha_': 1.0, 'beta_': 1.0} |\n",
      "| Inference Method       | 'sample'                      |\n",
      "| Hypothesis             | 'B is larger'                 |\n",
      "| Accept Hypothesis      | True                          |\n",
      "| Warnings               | None                          |\n",
      "+------------------------+-------------------------------+\n",
      "        \n"
     ]
    },
    {
     "data": {
      "image/png": "[encoded data removed]",
      "text/plain": [
       "<Figure size 1080x720 with 2 Axes>"
      ]
     },
     "metadata": {
      "needs_background": "light"
     },
     "output_type": "display_data"
    }
   ],
   "source": [
    "# set up Bayesian A/B test with default priors\n",
    "binomial_ab_test = HypothesisTest(\n",
    "    metric='metric',\n",
    "    control='A',\n",
    "    variation='B',\n",
    "    inference_method='binomial'\n",
    ")\n",
    "\n",
    "# run the test\n",
    "binomial_ab_test_results = exper.run_test(binomial_ab_test)\n",
    "assert binomial_ab_test_results.prob_greater > .95\n",
    "binomial_ab_test_results.display()\n",
    "binomial_ab_test_results.visualize()"
   ]
  },
  {
   "cell_type": "markdown",
   "metadata": {},
   "source": [
    "Bayesian `HypothesisTestResults` have their own analogous `display` and `visualize` methods that can be used to interpret the results of the analysis. Notice the results of the `ab_test_results` and `binomial_ab_test_results` each support a difference in proportions of approximately 0.14."
   ]
  },
  {
   "cell_type": "markdown",
   "metadata": {},
   "source": [
    "### Bayesian Model Specification\n",
    "Bayesian models allow the experimenter to incorporate prior beliefs. This can be helpful when you have little data, or have strong domain knowledge of baselines. Specifying custom priors is also straight-forward using `abracadaba`, simply pass in a a `model_params` argument during `HypothesisTest` initialization:"
   ]
  },
  {
   "cell_type": "code",
   "execution_count": 10,
   "metadata": {},
   "outputs": [
    {
     "name": "stdout",
     "output_type": "stream",
     "text": [
      "\n",
      "Observations Summary:\n",
      "+----------------+------------------+-----------------+\n",
      "| Treatment      | A                | B               |\n",
      "+----------------+------------------+-----------------+\n",
      "| Metric         | metric           | metric          |\n",
      "| Observations   | 318              | 345             |\n",
      "| Mean           | 0.4528           | 0.5594          |\n",
      "| Standard Error | (0.3981, 0.5075) | (0.507, 0.6118) |\n",
      "| Variance       | 0.2478           | 0.2465          |\n",
      "+----------------+------------------+-----------------+\n",
      "\n",
      "Test Results:\n",
      "+------------------------+-------------------------------+\n",
      "| Delta                  | 0.1057                        |\n",
      "| HDI                    | (0.0344, 0.1853)              |\n",
      "| HDI %-tiles            | (0.0500, 0.9500)              |\n",
      "| Delta-relative         | 23.79 %                       |\n",
      "| HDI-relative           | (5.91, 43.62) %               |\n",
      "| Effect Size            | 0.2133                        |\n",
      "| alpha                  | 0.0500                        |\n",
      "| Credible Mass          | 0.9500                        |\n",
      "| p(variation > control) | 0.9978                        |\n",
      "| Inference Method       | 'binomial'                    |\n",
      "| Model Hyperarameters   | {'alpha_': 1.0, 'beta_': 1.0} |\n",
      "| Inference Method       | 'sample'                      |\n",
      "| Hypothesis             | 'B is larger'                 |\n",
      "| Accept Hypothesis      | True                          |\n",
      "| Warnings               | None                          |\n",
      "+------------------------+-------------------------------+\n",
      "        \n"
     ]
    },
    {
     "data": {
      "image/png": "[encoded data removed]",
      "text/plain": [
       "<Figure size 1080x720 with 2 Axes>"
      ]
     },
     "metadata": {
      "needs_background": "light"
     },
     "output_type": "display_data"
    }
   ],
   "source": [
    "# Run Bayesian test with custom priors\n",
    "beta_prior_params = dict(alpha=100., beta=100.)  # strong prior at p = .5\n",
    "bb_ab_test = HypothesisTest(\n",
    "    metric='metric',\n",
    "    control='A', variation='C',\n",
    "    inference_method='beta_binomial',\n",
    "    model_params=beta_prior_params\n",
    ")\n",
    "\n",
    "# run the test\n",
    "binomial_ab_test_results = exper.run_test(binomial_ab_test)\n",
    "assert binomial_ab_test_results.prob_greater > .95\n",
    "binomial_ab_test_results.display()\n",
    "binomial_ab_test_results.visualize()"
   ]
  }
 ],
 "metadata": {
  "kernelspec": {
   "display_name": "Python 3",
   "language": "python",
   "name": "python3"
  },
  "language_info": {
   "codemirror_mode": {
    "name": "ipython",
    "version": 3
   },
   "file_extension": ".py",
   "mimetype": "text/x-python",
   "name": "python",
   "nbconvert_exporter": "python",
   "pygments_lexer": "ipython3",
   "version": "3.7.7"
  },
  "toc": {
   "base_numbering": 1,
   "nav_menu": {},
   "number_sections": false,
   "sideBar": true,
   "skip_h1_title": true,
   "title_cell": "Table of Contents",
   "title_sidebar": "Contents",
   "toc_cell": true,
   "toc_position": {},
   "toc_section_display": true,
   "toc_window_display": true
  }
 },
 "nbformat": 4,
 "nbformat_minor": 2
}
