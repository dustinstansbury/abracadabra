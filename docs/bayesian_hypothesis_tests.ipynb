{
 "cells": [
  {
   "cell_type": "markdown",
   "metadata": {
    "toc": true
   },
   "source": [
    "<h1>Table of Contents<span class=\"tocSkip\"></span></h1>\n",
    "<div class=\"toc\"><ul class=\"toc-item\"><li><span><a href=\"#Continuous-Variables,-$X-\\in-\\mathbb{R}$\" data-toc-modified-id=\"Continuous-Variables,-$X-\\in-\\mathbb{R}$-1\">Continuous Variables, $X \\in \\mathbb{R}$</a></span><ul class=\"toc-item\"><li><span><a href=\"#Hierarchical-Gaussian-Model\" data-toc-modified-id=\"Hierarchical-Gaussian-Model-1.1\">Hierarchical Gaussian Model</a></span><ul class=\"toc-item\"><li><span><a href=\"#Model-Specification:\" data-toc-modified-id=\"Model-Specification:-1.1.1\">Model Specification:</a></span><ul class=\"toc-item\"><li><span><a href=\"#method_type:\" data-toc-modified-id=\"method_type:-1.1.1.1\"><code>method_type</code>:</a></span></li><li><span><a href=\"#model_params-(hyperparameters):\" data-toc-modified-id=\"model_params-(hyperparameters):-1.1.1.2\"><code>model_params</code> (hyperparameters):</a></span></li></ul></li></ul></li><li><span><a href=\"#Hierachical-Student's-t-Model\" data-toc-modified-id=\"Hierachical-Student's-t-Model-1.2\">Hierachical Student's-<em>t</em> Model</a></span><ul class=\"toc-item\"><li><span><a href=\"#Model-Specification:\" data-toc-modified-id=\"Model-Specification:-1.2.1\">Model Specification:</a></span><ul class=\"toc-item\"><li><span><a href=\"#method_type:\" data-toc-modified-id=\"method_type:-1.2.1.1\"><code>method_type</code>:</a></span></li><li><span><a href=\"#model_params-(hyperparameters):\" data-toc-modified-id=\"model_params-(hyperparameters):-1.2.1.2\"><code>model_params</code> (hyperparameters):</a></span></li></ul></li></ul></li></ul></li><li><span><a href=\"#Binary-/-Proportion-Variables,-$X-\\in-(0,-1)-\\subset-\\mathbb{R}$\" data-toc-modified-id=\"Binary-/-Proportion-Variables,-$X-\\in-(0,-1)-\\subset-\\mathbb{R}$-2\">Binary / Proportion Variables, $X \\in (0, 1) \\subset \\mathbb{R}$</a></span><ul class=\"toc-item\"><li><span><a href=\"#Beta-Binomial-Model\" data-toc-modified-id=\"Beta-Binomial-Model-2.1\">Beta-Binomial Model</a></span><ul class=\"toc-item\"><li><span><a href=\"#Model-Specification:\" data-toc-modified-id=\"Model-Specification:-2.1.1\">Model Specification:</a></span><ul class=\"toc-item\"><li><span><a href=\"#method_type:\" data-toc-modified-id=\"method_type:-2.1.1.1\"><code>method_type</code>:</a></span></li><li><span><a href=\"#model_params-(hyperparameters):\" data-toc-modified-id=\"model_params-(hyperparameters):-2.1.1.2\"><code>model_params</code> (hyperparameters):</a></span></li></ul></li></ul></li><li><span><a href=\"#Beta-Bernoulli-Model\" data-toc-modified-id=\"Beta-Bernoulli-Model-2.2\">Beta-Bernoulli Model</a></span><ul class=\"toc-item\"><li><span><a href=\"#Model-Specification:\" data-toc-modified-id=\"Model-Specification:-2.2.1\">Model Specification:</a></span><ul class=\"toc-item\"><li><span><a href=\"#method_type:\" data-toc-modified-id=\"method_type:-2.2.1.1\"><code>method_type</code>:</a></span></li><li><span><a href=\"#model_params-(hyperparameters):\" data-toc-modified-id=\"model_params-(hyperparameters):-2.2.1.2\"><code>model_params</code> (hyperparameters):</a></span></li></ul></li></ul></li></ul></li><li><span><a href=\"#Count-/-Rate-Variables,-$X-\\in-\\mathbb{N}-\\cup-{\\{0\\}}$\" data-toc-modified-id=\"Count-/-Rate-Variables,-$X-\\in-\\mathbb{N}-\\cup-{\\{0\\}}$-3\">Count / Rate Variables, $X \\in \\mathbb{N} \\cup {\\{0\\}}$</a></span><ul class=\"toc-item\"><li><span><a href=\"#Gamma-Poisson-Model\" data-toc-modified-id=\"Gamma-Poisson-Model-3.1\">Gamma-Poisson Model</a></span><ul class=\"toc-item\"><li><span><a href=\"#Model-Specification:\" data-toc-modified-id=\"Model-Specification:-3.1.1\">Model Specification:</a></span><ul class=\"toc-item\"><li><span><a href=\"#method_type:\" data-toc-modified-id=\"method_type:-3.1.1.1\"><code>method_type</code>:</a></span></li><li><span><a href=\"#model_params-(hyperparameters):\" data-toc-modified-id=\"model_params-(hyperparameters):-3.1.1.2\"><code>model_params</code> (hyperparameters):</a></span></li></ul></li></ul></li></ul></li></ul></div>"
   ]
  },
  {
   "cell_type": "markdown",
   "metadata": {},
   "source": [
    "# Bayesian Hypothesis Test Model Specification\n",
    "\n",
    "When using Bayesian models for hypothesis testing,  hyperparameters can specified during `HypothesisTest` initialization by providing a `model_params` dictionary. If no `model_params` are provided, default hyperparameters will be used, generally corresponding with weak or non-informative priors."
   ]
  },
  {
   "cell_type": "code",
   "execution_count": 5,
   "metadata": {},
   "outputs": [],
   "source": [
    "from abra import HypothesisTest\n",
    "\n",
    "# Beta-Binomial model for running inference on the results of as series of binary trials\n",
    "model_type = 'beta_binomial'\n",
    "\n",
    "# Beta(alpha=100, beta=100) indicates fairly strong prior belief that p_success = .5\n",
    "hyper_params = dict(alpha=100., beta=100.)\n",
    "\n",
    "bayesian_test = HypothesisTest(\n",
    "    method=model_type,\n",
    "    model_params=hyper_params\n",
    ")"
   ]
  },
  {
   "cell_type": "markdown",
   "metadata": {},
   "source": [
    "##  Continuous Variables, $X \\in \\mathbb{R}$\n",
    "\n",
    "These models make the assumption that the underlying data have a symmetric, real-valued distribution that is characterized well by the Normal (Gaussian) or Student's-*t* distributions. The Student's-*t* model will generally be more robust to outliers in the data.\n"
   ]
  },
  {
   "cell_type": "markdown",
   "metadata": {},
   "source": [
    "### Hierarchical Gaussian Model\n",
    "\n",
    "Models observed variables, $X$ as Normally-distributed with a Normal prior on the mean $\\mu$ and a Uniform prior on the standard deviation $\\sigma$.\n",
    "\n",
    "$$\n",
    "\\begin{align*}\n",
    "\\mu &\\sim \\text{Normal}(\\bar{x}, \\text{std(x)}) \\\\\n",
    "\\sigma &\\sim \\text{Uniform}(0, \\sigma_{max}) \\\\\n",
    "X &\\sim \\text{Normal}(\\mu, \\sigma),\n",
    "\\end{align*}\n",
    "$$\n",
    "\n",
    "where $\\bar{x}$ and $\\text{std}(x)$ are the estimated mean and standard deviation of the observations.\n",
    "#### Model Specification:\n",
    "##### `method_type`:\n",
    "- `'gaussian'`\n",
    "- `'g'`\n",
    "\n",
    "##### `model_params` (hyperparameters):\n",
    "\n",
    "- `std_max` (default=30.0): the assumed upper bound of the standard deviation\n"
   ]
  },
  {
   "cell_type": "markdown",
   "metadata": {},
   "source": [
    "### Hierachical Student's-*t* Model\n",
    "\n",
    "Models observed variables $X$ as Student's-t-distributed, with a Gaussian prior on the mean and an Exponential prior on the degrees of freedom:\n",
    "\n",
    "$$\n",
    "\\begin{align*}\n",
    "\\nu &\\sim \\text{Exponential}(1 / \\Lambda) \\\\\n",
    "\\mu &\\sim \\text{Normal}(\\bar{x}, \\text{std(x)}) \\\\\n",
    "\\sigma &\\sim \\text{Uniform}(0, \\sigma_{max}) \\\\\n",
    "X &\\sim \\text{StudentT}(\\nu, \\mu, \\sigma)\n",
    "\\end{align*}\n",
    "$$\n",
    "\n",
    "#### Model Specification:\n",
    "##### `method_type`:\n",
    "- `'exp-student-t'`\n",
    "- `'student-t'`\n",
    "- `'t'`\n",
    "\n",
    "##### `model_params` (hyperparameters):\n",
    "\n",
    "- `precision` (default=30.0): the precision $\\Lambda$ for the Exponential prior on the degrees of freedom\n",
    "- `std_max` (default=30.0): For simulating the effect size distribution, we assume an upper bound of  `std_max` on the variances used to calculate the pooled noise.\n"
   ]
  },
  {
   "cell_type": "markdown",
   "metadata": {},
   "source": [
    "## Binary / Proportion Variables, $X \\in (0, 1) \\subset \\mathbb{R}$"
   ]
  },
  {
   "cell_type": "markdown",
   "metadata": {},
   "source": [
    "### Beta-Binomial Model\n",
    "\n",
    "Models the number of successes $s$ observed over $N$ binary trials as a Binomial distribution, with a Beta prior on the success probability $p$ for the trials.\n",
    "\n",
    "$$\n",
    "\\begin{align*}\n",
    "p &\\sim \\text{Beta}(\\alpha, \\beta) \\\\\n",
    "s &\\sim \\text{Binomial}(N, p)\n",
    "\\end{align*}\n",
    "$$\n",
    "\n",
    "#### Model Specification:\n",
    "##### `method_type`:  \n",
    "- `'beta-binomial'`\n",
    "- `'binomial'`\n",
    "- `'bb'`\n",
    "- '`bn`'\n",
    "\n",
    "##### `model_params` (hyperparameters):\n",
    "\n",
    "- `alpha` (default=1.0): the success shape parameter for the Beta distribution\n",
    "- `beta` (default=1.0): the failure shape parameter for the Beta distribution\n",
    "\n",
    "The intuition  is that the larger $\\alpha$ and $\\beta$, the stronger the beliefs, as each parameter can be thought of a \"mock counts\" of successes and failures. Thus the expected value of the prior will be located at\n",
    "$$\n",
    "\\begin{align*}\n",
    "\\text{E}[p] &= \\frac{\\alpha}{\\alpha + \\beta} \n",
    "\\end{align*}\n",
    "$$"
   ]
  },
  {
   "cell_type": "markdown",
   "metadata": {},
   "source": [
    "### Beta-Bernoulli Model\n",
    "\n",
    "Models the probability of success $p$ as a Bernoulli distribution with a Beta prior over possible success probabilities.\n",
    "\n",
    "$$\n",
    "\\begin{align*}\n",
    "\\theta &\\sim \\text{Beta}(\\alpha, \\beta) \\\\\n",
    "p &\\sim \\text{Bernoulli}(\\theta)\n",
    "\\end{align*}\n",
    "$$\n",
    "\n",
    "#### Model Specification:\n",
    "##### `method_type`: \n",
    "- `'bernoulli'`\n",
    "- '`b`'\n",
    "##### `model_params` (hyperparameters):\n",
    "\n",
    "- `alpha` (default=1.0): the success shape parameter for the Beta prior distribution\n",
    "- `beta` (default=1.0): the failure shape parameter for the Beta prior distribution"
   ]
  },
  {
   "cell_type": "markdown",
   "metadata": {},
   "source": [
    "## Count / Rate Variables, $X \\in \\mathbb{N} \\cup {\\{0\\}}$"
   ]
  },
  {
   "cell_type": "markdown",
   "metadata": {},
   "source": [
    "### Gamma-Poisson Model\n",
    "\n",
    "Models observed counts of event successes $X$ recorded over multiple trials of standardized sampling time as a Poisson distribution, with a Gamma prior on the underlying success rate parameter $\\lambda$.\n",
    "\n",
    "$$\n",
    "\\begin{align*}\n",
    "\\lambda &\\sim \\text{Gamma}(\\alpha, \\beta) \\\\\n",
    "X &\\sim \\text{Poisson}(\\lambda)\n",
    "\\end{align*}\n",
    "$$\n",
    "\n",
    "\n",
    "#### Model Specification:\n",
    "##### `method_type`: \n",
    "- `'gamma-poisson'`\n",
    "- `'poisson'`\n",
    "- `'gp'`\n",
    "- `'p'`\n",
    "\n",
    "##### `model_params` (hyperparameters):\n",
    "\n",
    "- `alpha` (default=1.0): The shape parameter for the Gamma prior over the poisson rate\n",
    "- `beta` (default=1.0): The rate parameter for the Gamma prior over the poisson rate"
   ]
  }
 ],
 "metadata": {
  "kernelspec": {
   "display_name": "Python 3",
   "language": "python",
   "name": "python3"
  },
  "language_info": {
   "codemirror_mode": {
    "name": "ipython",
    "version": 3
   },
   "file_extension": ".py",
   "mimetype": "text/x-python",
   "name": "python",
   "nbconvert_exporter": "python",
   "pygments_lexer": "ipython3",
   "version": "3.7.7"
  },
  "toc": {
   "base_numbering": 1,
   "nav_menu": {},
   "number_sections": false,
   "sideBar": true,
   "skip_h1_title": true,
   "title_cell": "Table of Contents",
   "title_sidebar": "Contents",
   "toc_cell": true,
   "toc_position": {},
   "toc_section_display": true,
   "toc_window_display": true
  }
 },
 "nbformat": 4,
 "nbformat_minor": 2
}
